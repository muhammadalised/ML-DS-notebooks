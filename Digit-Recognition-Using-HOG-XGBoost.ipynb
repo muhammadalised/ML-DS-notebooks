{
 "cells": [
  {
   "cell_type": "code",
   "execution_count": 1,
   "id": "c7fcdeb5",
   "metadata": {
    "execution": {
     "iopub.execute_input": "2022-08-21T10:32:51.382214Z",
     "iopub.status.busy": "2022-08-21T10:32:51.381673Z",
     "iopub.status.idle": "2022-08-21T10:33:06.270337Z",
     "shell.execute_reply": "2022-08-21T10:33:06.268617Z"
    },
    "papermill": {
     "duration": 14.901709,
     "end_time": "2022-08-21T10:33:06.273956",
     "exception": false,
     "start_time": "2022-08-21T10:32:51.372247",
     "status": "completed"
    },
    "tags": []
   },
   "outputs": [
    {
     "name": "stdout",
     "output_type": "stream",
     "text": [
      "Collecting mahotas\r\n",
      "  Downloading mahotas-1.4.13-cp37-cp37m-manylinux_2_12_x86_64.manylinux2010_x86_64.whl (5.7 MB)\r\n",
      "\u001b[2K     \u001b[90m━━━━━━━━━━━━━━━━━━━━━━━━━━━━━━━━━━━━━━━━\u001b[0m \u001b[32m5.7/5.7 MB\u001b[0m \u001b[31m10.7 MB/s\u001b[0m eta \u001b[36m0:00:00\u001b[0m\r\n",
      "\u001b[?25hRequirement already satisfied: numpy in /opt/conda/lib/python3.7/site-packages (from mahotas) (1.21.6)\r\n",
      "Installing collected packages: mahotas\r\n",
      "Successfully installed mahotas-1.4.13\r\n",
      "\u001b[33mWARNING: Running pip as the 'root' user can result in broken permissions and conflicting behaviour with the system package manager. It is recommended to use a virtual environment instead: https://pip.pypa.io/warnings/venv\u001b[0m\u001b[33m\r\n",
      "\u001b[0m"
     ]
    }
   ],
   "source": [
    "!pip install mahotas"
   ]
  },
  {
   "cell_type": "code",
   "execution_count": 2,
   "id": "a4ea6bc0",
   "metadata": {
    "_cell_guid": "b1076dfc-b9ad-4769-8c92-a6c4dae69d19",
    "_uuid": "8f2839f25d086af736a60e9eeb907d3b93b6e0e5",
    "execution": {
     "iopub.execute_input": "2022-08-21T10:33:06.291605Z",
     "iopub.status.busy": "2022-08-21T10:33:06.291120Z",
     "iopub.status.idle": "2022-08-21T10:33:07.946872Z",
     "shell.execute_reply": "2022-08-21T10:33:07.945775Z"
    },
    "papermill": {
     "duration": 1.66759,
     "end_time": "2022-08-21T10:33:07.949359",
     "exception": false,
     "start_time": "2022-08-21T10:33:06.281769",
     "status": "completed"
    },
    "tags": []
   },
   "outputs": [
    {
     "name": "stdout",
     "output_type": "stream",
     "text": [
      "/kaggle/input/digit-recognizer/sample_submission.csv\n",
      "/kaggle/input/digit-recognizer/train.csv\n",
      "/kaggle/input/digit-recognizer/test.csv\n"
     ]
    }
   ],
   "source": [
    "import numpy as np # linear algebra\n",
    "import pandas as pd # data processing, CSV file I/O (e.g. pd.read_csv)\n",
    "import cv2\n",
    "import mahotas\n",
    "\n",
    "from xgboost import XGBClassifier\n",
    "from sklearn.metrics import confusion_matrix, classification_report\n",
    "from sklearn.model_selection import train_test_split\n",
    "# Input data files are available in the read-only \"../input/\" directory\n",
    "# For example, running this (by clicking run or pressing Shift+Enter) will list all files under the input directory\n",
    "\n",
    "import os\n",
    "for dirname, _, filenames in os.walk('/kaggle/input'):\n",
    "    for filename in filenames:\n",
    "        print(os.path.join(dirname, filename))\n",
    "\n",
    "# You can write up to 20GB to the current directory (/kaggle/working/) that gets preserved as output when you create a version using \"Save & Run All\" \n",
    "# You can also write temporary files to /kaggle/temp/, but they won't be saved outside of the current session"
   ]
  },
  {
   "cell_type": "code",
   "execution_count": 3,
   "id": "73e8e3f7",
   "metadata": {
    "execution": {
     "iopub.execute_input": "2022-08-21T10:33:07.966911Z",
     "iopub.status.busy": "2022-08-21T10:33:07.966146Z",
     "iopub.status.idle": "2022-08-21T10:33:07.974377Z",
     "shell.execute_reply": "2022-08-21T10:33:07.973281Z"
    },
    "papermill": {
     "duration": 0.020376,
     "end_time": "2022-08-21T10:33:07.977123",
     "exception": false,
     "start_time": "2022-08-21T10:33:07.956747",
     "status": "completed"
    },
    "tags": []
   },
   "outputs": [],
   "source": [
    "'''\n",
    "    IMAGE UTIL FUNCTIONS\n",
    "'''\n",
    "\n",
    "def resize(image, width=None, height=None, inter=cv2.INTER_AREA):\n",
    "    dim = None\n",
    "    (h, w) = image.shape[:2]\n",
    "\n",
    "    if width is None and height is None:\n",
    "        return image\n",
    "    \n",
    "    if width is None:\n",
    "        # new height/old height\n",
    "        r = height / float(h)\n",
    "        dim = (int(w * r), height) # dimension is in the form of (width, height)\n",
    "    else:\n",
    "        r = width / float(w)\n",
    "        dim = (width, int(h * r))\n",
    "\n",
    "    resized = cv2.resize(image, dim, interpolation = inter)\n",
    "    return resized"
   ]
  },
  {
   "cell_type": "code",
   "execution_count": 4,
   "id": "9fdb1509",
   "metadata": {
    "execution": {
     "iopub.execute_input": "2022-08-21T10:33:07.994722Z",
     "iopub.status.busy": "2022-08-21T10:33:07.993207Z",
     "iopub.status.idle": "2022-08-21T10:33:08.536712Z",
     "shell.execute_reply": "2022-08-21T10:33:08.535452Z"
    },
    "papermill": {
     "duration": 0.555481,
     "end_time": "2022-08-21T10:33:08.539817",
     "exception": false,
     "start_time": "2022-08-21T10:33:07.984336",
     "status": "completed"
    },
    "tags": []
   },
   "outputs": [],
   "source": [
    "'''\n",
    "HOG FEATURE DESCRIPTOR\n",
    "'''\n",
    "from skimage import feature\n",
    "\n",
    "class HOG:\n",
    "    def __init__(self, orientations=9, pixelsPerCell=(8, 8), cellsPerBlock=(3, 3), transform=False):\n",
    "\n",
    "        self.orientations = orientations  # number of bins\n",
    "        self.pixelsPerCell = pixelsPerCell  # number of pixels per cell\n",
    "        self.cellsPerBlock = cellsPerBlock  # number of cells per each block\n",
    "        self.transform = transform\n",
    "\n",
    "    def describe(self, image):\n",
    "        hist = feature.hog(image,\n",
    "                           orientations=self.orientations,\n",
    "                           pixels_per_cell=self.pixelsPerCell,\n",
    "                           cells_per_block=self.cellsPerBlock,\n",
    "                           transform_sqrt=self.transform)\n",
    "        return hist"
   ]
  },
  {
   "cell_type": "code",
   "execution_count": 5,
   "id": "f6a49267",
   "metadata": {
    "execution": {
     "iopub.execute_input": "2022-08-21T10:33:08.556416Z",
     "iopub.status.busy": "2022-08-21T10:33:08.555943Z",
     "iopub.status.idle": "2022-08-21T10:33:08.571522Z",
     "shell.execute_reply": "2022-08-21T10:33:08.570031Z"
    },
    "papermill": {
     "duration": 0.027008,
     "end_time": "2022-08-21T10:33:08.574109",
     "exception": false,
     "start_time": "2022-08-21T10:33:08.547101",
     "status": "completed"
    },
    "tags": []
   },
   "outputs": [],
   "source": [
    "'''\n",
    "    UTILITIES TO PREPARE AND PROCESS DATA\n",
    "'''\n",
    "def load_digits(datasetPath):\n",
    "    data = np.genfromtxt(datasetPath, delimiter=\",\", dtype=\"uint8\")\n",
    "    target = data[:, 0]\n",
    "    data = data[:, 1:].reshape(data.shape[0], 28, 28)\n",
    "\n",
    "    return (data, target)\n",
    "\n",
    "\n",
    "def deskew(image, width):\n",
    "    (h, w) = image.shape[:2]\n",
    "    # moments contain the statistical information regarding the distribution of location of white pixels in image\n",
    "    moments = cv2.moments(image)\n",
    "\n",
    "    skew = moments[\"mu11\"]/moments[\"m02\"]\n",
    "    M = np.float32([\n",
    "        [1, skew, -0.5*w*skew],\n",
    "        [0, 1, 0]\n",
    "    ])\n",
    "\n",
    "    image = cv2.warpAffine(image, M, (w, h), flags=cv2.WARP_INVERSE_MAP | cv2.INTER_LINEAR)\n",
    "\n",
    "    image = resize(image, width=width)\n",
    "\n",
    "    return image\n",
    "\n",
    "\n",
    "def center_extent(image, size):\n",
    "    '''\n",
    "        Arguments:\n",
    "            image: deskewed image\n",
    "            size: output size of image i.e. output width and height\n",
    "    '''\n",
    "    (eW, eH) = size\n",
    "    # if the width is greater than the height of image\n",
    "    if image.shape[1] > image.shape[0]:\n",
    "        # Resize the image based on its width\n",
    "        image = resize(image, width=eW)\n",
    "    else:\n",
    "        # If the height is greater than width then resize the image based on its height\n",
    "        image = resize(image, height=eH)\n",
    "\n",
    "    extent = np.zeros((eW, eH), dtype=\"uint8\")\n",
    "\n",
    "    offsetX = (eW - image.shape[1]) // 2\n",
    "    offsetY = (eH - image.shape[0]) // 2\n",
    "    extent[offsetY: offsetY + image.shape[0],\n",
    "           offsetX: offsetX + image.shape[1]] = image\n",
    "    # Compute the weighted mean of white pixels in the image using center of mass function\n",
    "    # Returns the weighted x,y coordinates of center of image\n",
    "    CM = mahotas.center_of_mass(extent)\n",
    "    # Convert the x,y coordinates to integers rather than floats\n",
    "    (cY, cX) = np.round(CM).astype(\"int32\")\n",
    "    (dX, dY) = ((size[0] // 2) - cX, (size[1] // 2) - cY)\n",
    "\n",
    "    M = np.float32([[1, 0, dX], [0, 1, dY]])\n",
    "    extent = cv2.warpAffine(extent, M, size)\n",
    "\n",
    "    return extent"
   ]
  },
  {
   "cell_type": "code",
   "execution_count": 6,
   "id": "cad8ba1d",
   "metadata": {
    "execution": {
     "iopub.execute_input": "2022-08-21T10:33:08.590878Z",
     "iopub.status.busy": "2022-08-21T10:33:08.590303Z",
     "iopub.status.idle": "2022-08-21T10:33:08.596658Z",
     "shell.execute_reply": "2022-08-21T10:33:08.595156Z"
    },
    "papermill": {
     "duration": 0.017988,
     "end_time": "2022-08-21T10:33:08.599377",
     "exception": false,
     "start_time": "2022-08-21T10:33:08.581389",
     "status": "completed"
    },
    "tags": []
   },
   "outputs": [],
   "source": [
    "train_data_path = \"/kaggle/input/digit-recognizer/train.csv\"\n",
    "test_data_path =  \"/kaggle/input/digit-recognizer/test.csv\"\n",
    "output = \"submission.csv\""
   ]
  },
  {
   "cell_type": "code",
   "execution_count": 7,
   "id": "4e322b9e",
   "metadata": {
    "execution": {
     "iopub.execute_input": "2022-08-21T10:33:08.616332Z",
     "iopub.status.busy": "2022-08-21T10:33:08.615400Z",
     "iopub.status.idle": "2022-08-21T10:33:47.890529Z",
     "shell.execute_reply": "2022-08-21T10:33:47.889232Z"
    },
    "papermill": {
     "duration": 39.287407,
     "end_time": "2022-08-21T10:33:47.894080",
     "exception": false,
     "start_time": "2022-08-21T10:33:08.606673",
     "status": "completed"
    },
    "tags": []
   },
   "outputs": [],
   "source": [
    "# Load the data\n",
    "X, y = load_digits(train_data_path)"
   ]
  },
  {
   "cell_type": "markdown",
   "id": "335e5a21",
   "metadata": {
    "papermill": {
     "duration": 0.006617,
     "end_time": "2022-08-21T10:33:47.908220",
     "exception": false,
     "start_time": "2022-08-21T10:33:47.901603",
     "status": "completed"
    },
    "tags": []
   },
   "source": []
  },
  {
   "cell_type": "code",
   "execution_count": 8,
   "id": "ab5f791b",
   "metadata": {
    "execution": {
     "iopub.execute_input": "2022-08-21T10:33:47.924831Z",
     "iopub.status.busy": "2022-08-21T10:33:47.923961Z",
     "iopub.status.idle": "2022-08-21T10:33:47.929088Z",
     "shell.execute_reply": "2022-08-21T10:33:47.928281Z"
    },
    "papermill": {
     "duration": 0.016353,
     "end_time": "2022-08-21T10:33:47.931531",
     "exception": false,
     "start_time": "2022-08-21T10:33:47.915178",
     "status": "completed"
    },
    "tags": []
   },
   "outputs": [],
   "source": [
    "# X_train, X_val, y_train, y_val = train_test_split(X, y, test_size=0.1, random_state=42)"
   ]
  },
  {
   "cell_type": "code",
   "execution_count": 9,
   "id": "df5a03cc",
   "metadata": {
    "execution": {
     "iopub.execute_input": "2022-08-21T10:33:47.948662Z",
     "iopub.status.busy": "2022-08-21T10:33:47.948144Z",
     "iopub.status.idle": "2022-08-21T10:33:47.953646Z",
     "shell.execute_reply": "2022-08-21T10:33:47.952308Z"
    },
    "papermill": {
     "duration": 0.016881,
     "end_time": "2022-08-21T10:33:47.956186",
     "exception": false,
     "start_time": "2022-08-21T10:33:47.939305",
     "status": "completed"
    },
    "tags": []
   },
   "outputs": [],
   "source": [
    "# print('Number of training samples: ', len(X_train))\n",
    "# print('Number of validation samples: ',len(X_val))"
   ]
  },
  {
   "cell_type": "code",
   "execution_count": 10,
   "id": "44e1d2c2",
   "metadata": {
    "execution": {
     "iopub.execute_input": "2022-08-21T10:33:47.973743Z",
     "iopub.status.busy": "2022-08-21T10:33:47.972801Z",
     "iopub.status.idle": "2022-08-21T10:33:47.978658Z",
     "shell.execute_reply": "2022-08-21T10:33:47.977788Z"
    },
    "papermill": {
     "duration": 0.017949,
     "end_time": "2022-08-21T10:33:47.981332",
     "exception": false,
     "start_time": "2022-08-21T10:33:47.963383",
     "status": "completed"
    },
    "tags": []
   },
   "outputs": [],
   "source": [
    "# Instantiate the feature descriptor\n",
    "hog = HOG(orientations=18, pixelsPerCell=(10, 10), cellsPerBlock=(1, 1), transform=True)"
   ]
  },
  {
   "cell_type": "code",
   "execution_count": 11,
   "id": "e1f150e2",
   "metadata": {
    "execution": {
     "iopub.execute_input": "2022-08-21T10:33:47.998732Z",
     "iopub.status.busy": "2022-08-21T10:33:47.997819Z",
     "iopub.status.idle": "2022-08-21T10:34:06.296736Z",
     "shell.execute_reply": "2022-08-21T10:34:06.295583Z"
    },
    "papermill": {
     "duration": 18.311278,
     "end_time": "2022-08-21T10:34:06.299668",
     "exception": false,
     "start_time": "2022-08-21T10:33:47.988390",
     "status": "completed"
    },
    "tags": []
   },
   "outputs": [],
   "source": [
    "# Apply feature descriptor to training images\n",
    "X_train_desc = []\n",
    "for image in X:\n",
    "    image = deskew(image, 20)\n",
    "    image = center_extent(image, (20, 20))\n",
    "\n",
    "    hist = hog.describe(image)\n",
    "    X_train_desc.append(hist)"
   ]
  },
  {
   "cell_type": "code",
   "execution_count": 12,
   "id": "b8acdcf7",
   "metadata": {
    "execution": {
     "iopub.execute_input": "2022-08-21T10:34:06.317212Z",
     "iopub.status.busy": "2022-08-21T10:34:06.316474Z",
     "iopub.status.idle": "2022-08-21T10:34:06.328641Z",
     "shell.execute_reply": "2022-08-21T10:34:06.327407Z"
    },
    "papermill": {
     "duration": 0.023369,
     "end_time": "2022-08-21T10:34:06.331289",
     "exception": false,
     "start_time": "2022-08-21T10:34:06.307920",
     "status": "completed"
    },
    "tags": []
   },
   "outputs": [],
   "source": [
    "from sklearn.preprocessing import LabelEncoder\n",
    "le = LabelEncoder()\n",
    "y = le.fit_transform(y)"
   ]
  },
  {
   "cell_type": "code",
   "execution_count": 13,
   "id": "17e8e182",
   "metadata": {
    "execution": {
     "iopub.execute_input": "2022-08-21T10:34:06.347517Z",
     "iopub.status.busy": "2022-08-21T10:34:06.346811Z",
     "iopub.status.idle": "2022-08-21T10:34:06.351463Z",
     "shell.execute_reply": "2022-08-21T10:34:06.350489Z"
    },
    "papermill": {
     "duration": 0.01552,
     "end_time": "2022-08-21T10:34:06.353813",
     "exception": false,
     "start_time": "2022-08-21T10:34:06.338293",
     "status": "completed"
    },
    "tags": []
   },
   "outputs": [],
   "source": [
    "model = XGBClassifier(random_state=42)"
   ]
  },
  {
   "cell_type": "code",
   "execution_count": 14,
   "id": "d4c732be",
   "metadata": {
    "execution": {
     "iopub.execute_input": "2022-08-21T10:34:06.370043Z",
     "iopub.status.busy": "2022-08-21T10:34:06.369505Z",
     "iopub.status.idle": "2022-08-21T10:38:09.594133Z",
     "shell.execute_reply": "2022-08-21T10:38:09.592621Z"
    },
    "papermill": {
     "duration": 243.244001,
     "end_time": "2022-08-21T10:38:09.604814",
     "exception": false,
     "start_time": "2022-08-21T10:34:06.360813",
     "status": "completed"
    },
    "tags": []
   },
   "outputs": [
    {
     "name": "stdout",
     "output_type": "stream",
     "text": [
      "Training the model...\n",
      "Training completed!\n"
     ]
    }
   ],
   "source": [
    "print('Training the model...')\n",
    "model.fit(X_train_desc, y)\n",
    "print('Training completed!')"
   ]
  },
  {
   "cell_type": "code",
   "execution_count": 15,
   "id": "dd2ee81a",
   "metadata": {
    "execution": {
     "iopub.execute_input": "2022-08-21T10:38:09.621385Z",
     "iopub.status.busy": "2022-08-21T10:38:09.620861Z",
     "iopub.status.idle": "2022-08-21T10:38:22.513383Z",
     "shell.execute_reply": "2022-08-21T10:38:22.511975Z"
    },
    "papermill": {
     "duration": 12.904339,
     "end_time": "2022-08-21T10:38:22.516299",
     "exception": false,
     "start_time": "2022-08-21T10:38:09.611960",
     "status": "completed"
    },
    "tags": []
   },
   "outputs": [
    {
     "name": "stdout",
     "output_type": "stream",
     "text": [
      "Loading Test data...\n",
      "Test data loaded!\n"
     ]
    }
   ],
   "source": [
    "print('Loading Test data...')\n",
    "X_test = np.loadtxt(test_data_path, skiprows=1, dtype='int', delimiter=',')\n",
    "X_test = X_test.astype(\"float32\")\n",
    "X_test = X_test.reshape(X_test.shape[0], 28, 28)\n",
    "print('Test data loaded!')"
   ]
  },
  {
   "cell_type": "code",
   "execution_count": 16,
   "id": "af856c5b",
   "metadata": {
    "execution": {
     "iopub.execute_input": "2022-08-21T10:38:22.533613Z",
     "iopub.status.busy": "2022-08-21T10:38:22.532791Z",
     "iopub.status.idle": "2022-08-21T10:38:22.542742Z",
     "shell.execute_reply": "2022-08-21T10:38:22.541445Z"
    },
    "papermill": {
     "duration": 0.021382,
     "end_time": "2022-08-21T10:38:22.545153",
     "exception": false,
     "start_time": "2022-08-21T10:38:22.523771",
     "status": "completed"
    },
    "tags": []
   },
   "outputs": [
    {
     "data": {
      "text/plain": [
       "28000"
      ]
     },
     "execution_count": 16,
     "metadata": {},
     "output_type": "execute_result"
    }
   ],
   "source": [
    "len(X_test)"
   ]
  },
  {
   "cell_type": "code",
   "execution_count": 17,
   "id": "b75fe3db",
   "metadata": {
    "execution": {
     "iopub.execute_input": "2022-08-21T10:38:22.562462Z",
     "iopub.status.busy": "2022-08-21T10:38:22.561169Z",
     "iopub.status.idle": "2022-08-21T10:38:34.572410Z",
     "shell.execute_reply": "2022-08-21T10:38:34.571333Z"
    },
    "papermill": {
     "duration": 12.023221,
     "end_time": "2022-08-21T10:38:34.575616",
     "exception": false,
     "start_time": "2022-08-21T10:38:22.552395",
     "status": "completed"
    },
    "tags": []
   },
   "outputs": [
    {
     "name": "stdout",
     "output_type": "stream",
     "text": [
      "Processing Test data...\n"
     ]
    }
   ],
   "source": [
    "# Apply feature descriptor to test data\n",
    "print('Processing Test data...')\n",
    "X_test_desc = []\n",
    "for image in X_test:\n",
    "    image = deskew(image, 20)\n",
    "    image = center_extent(image, (20, 20))\n",
    "\n",
    "    hist = hog.describe(image)\n",
    "    X_test_desc.append(hist)"
   ]
  },
  {
   "cell_type": "code",
   "execution_count": 18,
   "id": "ecf06621",
   "metadata": {
    "execution": {
     "iopub.execute_input": "2022-08-21T10:38:34.593456Z",
     "iopub.status.busy": "2022-08-21T10:38:34.592494Z",
     "iopub.status.idle": "2022-08-21T10:38:35.020714Z",
     "shell.execute_reply": "2022-08-21T10:38:35.019582Z"
    },
    "papermill": {
     "duration": 0.44069,
     "end_time": "2022-08-21T10:38:35.024138",
     "exception": false,
     "start_time": "2022-08-21T10:38:34.583448",
     "status": "completed"
    },
    "tags": []
   },
   "outputs": [
    {
     "name": "stdout",
     "output_type": "stream",
     "text": [
      "Generating predictions for Test data...\n"
     ]
    }
   ],
   "source": [
    "print('Generating predictions for Test data...')\n",
    "y_pred = model.predict(X_test_desc)"
   ]
  },
  {
   "cell_type": "code",
   "execution_count": 19,
   "id": "83088091",
   "metadata": {
    "execution": {
     "iopub.execute_input": "2022-08-21T10:38:35.043082Z",
     "iopub.status.busy": "2022-08-21T10:38:35.042559Z",
     "iopub.status.idle": "2022-08-21T10:38:35.048246Z",
     "shell.execute_reply": "2022-08-21T10:38:35.046774Z"
    },
    "papermill": {
     "duration": 0.017373,
     "end_time": "2022-08-21T10:38:35.050612",
     "exception": false,
     "start_time": "2022-08-21T10:38:35.033239",
     "status": "completed"
    },
    "tags": []
   },
   "outputs": [],
   "source": [
    "# print(classification_report(y_val, y_pred))"
   ]
  },
  {
   "cell_type": "code",
   "execution_count": 20,
   "id": "7581da16",
   "metadata": {
    "execution": {
     "iopub.execute_input": "2022-08-21T10:38:35.069672Z",
     "iopub.status.busy": "2022-08-21T10:38:35.068564Z",
     "iopub.status.idle": "2022-08-21T10:38:35.119191Z",
     "shell.execute_reply": "2022-08-21T10:38:35.117412Z"
    },
    "papermill": {
     "duration": 0.063482,
     "end_time": "2022-08-21T10:38:35.122422",
     "exception": false,
     "start_time": "2022-08-21T10:38:35.058940",
     "status": "completed"
    },
    "tags": []
   },
   "outputs": [
    {
     "name": "stdout",
     "output_type": "stream",
     "text": [
      "Submissions file created!\n"
     ]
    }
   ],
   "source": [
    "with open(output, 'w') as f :\n",
    "    f.write('ImageId,Label\\n')\n",
    "    for i in range(len(y_pred)) :\n",
    "        f.write(\"\".join([str(i+1),',',str(y_pred[i]),'\\n']))\n",
    "    print('Submissions file created!')"
   ]
  },
  {
   "cell_type": "code",
   "execution_count": null,
   "id": "94c67cbe",
   "metadata": {
    "papermill": {
     "duration": 0.007225,
     "end_time": "2022-08-21T10:38:35.137706",
     "exception": false,
     "start_time": "2022-08-21T10:38:35.130481",
     "status": "completed"
    },
    "tags": []
   },
   "outputs": [],
   "source": []
  }
 ],
 "metadata": {
  "kernelspec": {
   "display_name": "Python 3",
   "language": "python",
   "name": "python3"
  },
  "language_info": {
   "codemirror_mode": {
    "name": "ipython",
    "version": 3
   },
   "file_extension": ".py",
   "mimetype": "text/x-python",
   "name": "python",
   "nbconvert_exporter": "python",
   "pygments_lexer": "ipython3",
   "version": "3.7.12"
  },
  "papermill": {
   "default_parameters": {},
   "duration": 355.16443,
   "end_time": "2022-08-21T10:38:36.373559",
   "environment_variables": {},
   "exception": null,
   "input_path": "__notebook__.ipynb",
   "output_path": "__notebook__.ipynb",
   "parameters": {},
   "start_time": "2022-08-21T10:32:41.209129",
   "version": "2.3.4"
  }
 },
 "nbformat": 4,
 "nbformat_minor": 5
}
